{
  "nbformat": 4,
  "nbformat_minor": 0,
  "metadata": {
    "colab": {
      "provenance": []
    },
    "kernelspec": {
      "name": "python3",
      "display_name": "Python 3"
    },
    "language_info": {
      "name": "python"
    }
  },
  "cells": [
    {
      "cell_type": "markdown",
      "source": [
        "  Código 1: Complexidade O(1) - Tempo Constante\n"
      ],
      "metadata": {
        "id": "P1siI95N77YG"
      }
    },
    {
      "cell_type": "code",
      "source": [
        "def obter_primeiro_elemento(lista: list) -> int:\n",
        "    \"\"\"\n",
        "    Descrição: Retorna o primeiro elemento de uma lista.\n",
        "    A operação de acessar um índice específico da lista é direta e não\n",
        "    depende do tamanho total da lista.\n",
        "\n",
        "    Complexidade de Tempo: O(1) - Constante.\n",
        "    Complexidade de Espaço: O(1) - Constante.\n",
        "\n",
        "    Exemplo de uso:\n",
        "    >>> obter_primeiro_elemento([10, 20, 30, 40, 50])\n",
        "    10\n",
        "    \"\"\"\n",
        "    # Verifica se a lista não está vazia para evitar erros\n",
        "    if not lista:\n",
        "        return None\n",
        "\n",
        "    # Acessar o primeiro elemento (índice 0) é uma operação de tempo constante.\n",
        "    # Não importa se a lista tem 10 ou 10 milhões de itens, o tempo para\n",
        "    # pegar o primeiro é o mesmo.\n",
        "    return lista[0]\n",
        "\n",
        "# --- Exemplo de execução ---\n",
        "numeros = [3, 6, 9, 12, 15]\n",
        "primeiro = obter_primeiro_elemento(numeros)\n",
        "print(f\"Código 1 (O(1)) -> Primeiro elemento: {primeiro}\")"
      ],
      "metadata": {
        "colab": {
          "base_uri": "https://localhost:8080/"
        },
        "id": "XyYzSdi47mvq",
        "outputId": "dc3e52e7-6010-4af9-93bb-5de4ceb876d3"
      },
      "execution_count": 7,
      "outputs": [
        {
          "output_type": "stream",
          "name": "stdout",
          "text": [
            "Código 1 (O(1)) -> Primeiro elemento: 3\n"
          ]
        }
      ]
    },
    {
      "cell_type": "markdown",
      "source": [
        "  Código 2: Complexidade O(n) - Tempo Linear"
      ],
      "metadata": {
        "id": "B_Jr1Urv8Z5K"
      }
    },
    {
      "cell_type": "code",
      "source": [
        "def encontrar_soma_dos_elementos(lista: list) -> int:\n",
        "    \"\"\"\n",
        "    Descrição: Calcula a soma de todos os elementos em uma lista.\n",
        "    O algoritmo precisa percorrer cada elemento da lista uma vez.\n",
        "\n",
        "    Complexidade de Tempo: O(n) - Linear, onde 'n' é o número de elementos na lista.\n",
        "    Complexidade de Espaço: O(1) - Constante, pois usamos apenas uma variável (soma_total).\n",
        "\n",
        "    Exemplo de uso:\n",
        "    >>> encontrar_soma_dos_elementos([1, 2, 3, 4, 5])\n",
        "    15\n",
        "    \"\"\"\n",
        "    soma_total = 0  # Inicializa a variável que guardará a soma\n",
        "\n",
        "    # O laço 'for' percorre cada 'elemento' na 'lista'.\n",
        "    # Se a lista tiver 'n' elementos, o laço executará 'n' vezes.\n",
        "    for elemento in lista:\n",
        "        soma_total += elemento\n",
        "\n",
        "    return soma_total\n",
        "\n",
        "# --- Exemplo de execução ---\n",
        "numeros = [10, 20, 30, 40]\n",
        "soma = encontrar_soma_dos_elementos(numeros)\n",
        "print(f\"Código 2 (O(n)) -> Soma dos elementos: {soma}\")"
      ],
      "metadata": {
        "colab": {
          "base_uri": "https://localhost:8080/"
        },
        "id": "Ya3C3xPu7Yj6",
        "outputId": "1f9abcbd-d12b-4149-84e3-dda52d693025"
      },
      "execution_count": 5,
      "outputs": [
        {
          "output_type": "stream",
          "name": "stdout",
          "text": [
            "Código 2 (O(n)) -> Soma dos elementos: 100\n"
          ]
        }
      ]
    },
    {
      "cell_type": "markdown",
      "source": [
        "  Código 3: Complexidade O(n²) - Tempo Quadrático"
      ],
      "metadata": {
        "id": "_EYabduI86Jm"
      }
    },
    {
      "cell_type": "code",
      "execution_count": 3,
      "metadata": {
        "colab": {
          "base_uri": "https://localhost:8080/"
        },
        "id": "g6MVAKtX674P",
        "outputId": "7fad2544-c348-49ef-e3f5-b43cf42cc290"
      },
      "outputs": [
        {
          "output_type": "stream",
          "name": "stdout",
          "text": [
            "Código 3 (O(n²)) -> Contém elementos duplicados? True\n"
          ]
        }
      ],
      "source": [
        "def verificar_se_ha_duplicatas(lista: list) -> bool:\n",
        "    \"\"\"\n",
        "    Descrição: Verifica se existem elementos duplicados em uma lista.\n",
        "    Este método compara cada elemento com todos os outros elementos da lista.\n",
        "\n",
        "    Complexidade de Tempo: O(n²) - Quadrático, onde 'n' é o número de elementos.\n",
        "    Complexidade de Espaço: O(1) - Constante.\n",
        "\n",
        "    Exemplo de uso:\n",
        "    >>> verificar_se_ha_duplicatas([1, 2, 3, 4, 1])\n",
        "    True\n",
        "    \"\"\"\n",
        "    # Laço externo que percorre a lista do início ao fim.\n",
        "    # Ele executará 'n' vezes.\n",
        "    for i in range(len(lista)):\n",
        "        # Laço interno que também percorre a lista do início ao fim.\n",
        "        # Para cada iteração do laço externo, este laço interno\n",
        "        # executará 'n' vezes.\n",
        "        for j in range(len(lista)):\n",
        "            # Garante que não estamos comparando o elemento com ele mesmo.\n",
        "            if i != j:\n",
        "                # Se encontrarmos dois elementos iguais em posições diferentes,\n",
        "                # há uma duplicata.\n",
        "                if lista[i] == lista[j]:\n",
        "                    return True  # Retorna True assim que a primeira duplicata é encontrada\n",
        "\n",
        "    return False # Retorna False se o laço terminar sem encontrar duplicatas\n",
        "\n",
        "# --- Exemplo de execução ---\n",
        "numeros = [1, 5, 8, 9, 5, 10]\n",
        "tem_duplicata = verificar_se_ha_duplicatas(numeros)\n",
        "print(f\"Código 3 (O(n²)) -> Contém elementos duplicados? {tem_duplicata}\")"
      ]
    },
    {
      "cell_type": "markdown",
      "source": [
        "\n",
        "  Explicação Geral\n",
        "\n",
        "   * O(1) - Tempo Constante: A complexidade do Código 1 é constante porque o tempo de execução não aumenta com o tamanho da entrada. Acessar o\n",
        "     primeiro elemento de uma lista leva o mesmo tempo, independentemente de a lista ter 5 ou 5 milhões de itens.\n",
        "\n",
        "   * O(n) - Tempo Linear: A complexidade do Código 2 é linear porque o tempo de execução cresce em proporção direta ao tamanho da entrada (n).\n",
        "     Para somar os elementos, o programa precisa visitar cada um deles uma vez. Se a lista dobrar de tamanho, o tempo de execução também\n",
        "     dobrará.\n",
        "\n",
        "   * O(n²) - Tempo Quadrático: A complexidade do Código 3 é quadrática porque o tempo de execução cresce proporcionalmente ao quadrado do\n",
        "     tamanho da entrada. Isso ocorre devido aos laços aninhados: para cada elemento da lista (laço externo), percorremos a lista inteira\n",
        "     novamente (laço interno). Se a lista tem 10 itens, fazemos cerca de 100 comparações (10*10). Se tiver 100 itens, faremos cerca de 10.000\n",
        "     comparações (100*100).\n",
        "\n",
        "  Qual seria mais eficiente para grandes entradas?\n",
        "\n",
        "  O mais eficiente é, de longe, o algoritmo de complexidade O(1), pois seu desempenho não se degrada com o aumento dos dados. O algoritmo\n",
        "  O(n²) é o menos eficiente e se torna extremamente lento para grandes volumes de dados, sendo muitas vezes inviável em aplicações práticas\n",
        "  que manipulam milhares ou milhões de registros.\n",
        "  "
      ],
      "metadata": {
        "id": "WjbMDr1w9AM9"
      }
    }
  ]
}